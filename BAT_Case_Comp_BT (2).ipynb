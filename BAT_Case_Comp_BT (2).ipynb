{
 "cells": [
  {
   "cell_type": "code",
   "execution_count": 1,
   "id": "forbidden-oregon",
   "metadata": {},
   "outputs": [],
   "source": [
    "import numpy as np\n",
    "import pandas as pd\n",
    "import matplotlib.pyplot as plt\n",
    "from mpl_toolkits import mplot3d"
   ]
  },
  {
   "cell_type": "code",
   "execution_count": 2,
   "id": "collected-locking",
   "metadata": {},
   "outputs": [],
   "source": [
    "action_df = pd.read_csv('actionindex_61.csv')"
   ]
  },
  {
   "cell_type": "code",
   "execution_count": 3,
   "id": "provincial-bacon",
   "metadata": {},
   "outputs": [
    {
     "data": {
      "text/html": [
       "<div>\n",
       "<style scoped>\n",
       "    .dataframe tbody tr th:only-of-type {\n",
       "        vertical-align: middle;\n",
       "    }\n",
       "\n",
       "    .dataframe tbody tr th {\n",
       "        vertical-align: top;\n",
       "    }\n",
       "\n",
       "    .dataframe thead th {\n",
       "        text-align: right;\n",
       "    }\n",
       "</style>\n",
       "<table border=\"1\" class=\"dataframe\">\n",
       "  <thead>\n",
       "    <tr style=\"text-align: right;\">\n",
       "      <th></th>\n",
       "      <th>Year</th>\n",
       "      <th>Games</th>\n",
       "      <th>PlateAppearances</th>\n",
       "      <th>AtBats</th>\n",
       "      <th>Homeruns</th>\n",
       "      <th>HRperGame</th>\n",
       "      <th>triples</th>\n",
       "      <th>doubles</th>\n",
       "      <th>singles</th>\n",
       "      <th>walks</th>\n",
       "      <th>...</th>\n",
       "      <th>pitchersPerGame</th>\n",
       "      <th>pitchesPerPA</th>\n",
       "      <th>pitchesPerGame</th>\n",
       "      <th>strikesPerGame</th>\n",
       "      <th>strikesPerPitch</th>\n",
       "      <th>foulPerStrike</th>\n",
       "      <th>foulPerPitch</th>\n",
       "      <th>foulPerGame</th>\n",
       "      <th>actionIndex</th>\n",
       "      <th>attendance</th>\n",
       "    </tr>\n",
       "  </thead>\n",
       "  <tbody>\n",
       "    <tr>\n",
       "      <th>row.56</th>\n",
       "      <td>2017</td>\n",
       "      <td>2430</td>\n",
       "      <td>185295</td>\n",
       "      <td>165567</td>\n",
       "      <td>6105</td>\n",
       "      <td>2.512346</td>\n",
       "      <td>795</td>\n",
       "      <td>8397</td>\n",
       "      <td>26918</td>\n",
       "      <td>15829</td>\n",
       "      <td>...</td>\n",
       "      <td>4.221811</td>\n",
       "      <td>3.958418</td>\n",
       "      <td>301.841564</td>\n",
       "      <td>191.207819</td>\n",
       "      <td>0.633471</td>\n",
       "      <td>0.279921</td>\n",
       "      <td>0.177322</td>\n",
       "      <td>53.523045</td>\n",
       "      <td>52.509877</td>\n",
       "      <td>29922.623457</td>\n",
       "    </tr>\n",
       "    <tr>\n",
       "      <th>row.57</th>\n",
       "      <td>2018</td>\n",
       "      <td>2431</td>\n",
       "      <td>185139</td>\n",
       "      <td>165432</td>\n",
       "      <td>5585</td>\n",
       "      <td>2.297408</td>\n",
       "      <td>847</td>\n",
       "      <td>8264</td>\n",
       "      <td>26322</td>\n",
       "      <td>15686</td>\n",
       "      <td>...</td>\n",
       "      <td>4.360346</td>\n",
       "      <td>3.961110</td>\n",
       "      <td>301.668449</td>\n",
       "      <td>191.770053</td>\n",
       "      <td>0.635698</td>\n",
       "      <td>0.278876</td>\n",
       "      <td>0.177281</td>\n",
       "      <td>53.480049</td>\n",
       "      <td>51.963801</td>\n",
       "      <td>28659.511312</td>\n",
       "    </tr>\n",
       "    <tr>\n",
       "      <th>row.58</th>\n",
       "      <td>2019</td>\n",
       "      <td>2429</td>\n",
       "      <td>186517</td>\n",
       "      <td>166651</td>\n",
       "      <td>6776</td>\n",
       "      <td>2.789625</td>\n",
       "      <td>785</td>\n",
       "      <td>8531</td>\n",
       "      <td>25947</td>\n",
       "      <td>15895</td>\n",
       "      <td>...</td>\n",
       "      <td>4.411486</td>\n",
       "      <td>3.989004</td>\n",
       "      <td>306.305887</td>\n",
       "      <td>194.765336</td>\n",
       "      <td>0.635852</td>\n",
       "      <td>0.283304</td>\n",
       "      <td>0.180140</td>\n",
       "      <td>55.177851</td>\n",
       "      <td>51.795698</td>\n",
       "      <td>28203.744751</td>\n",
       "    </tr>\n",
       "    <tr>\n",
       "      <th>row.59</th>\n",
       "      <td>2020</td>\n",
       "      <td>898</td>\n",
       "      <td>66506</td>\n",
       "      <td>59030</td>\n",
       "      <td>2304</td>\n",
       "      <td>2.565702</td>\n",
       "      <td>241</td>\n",
       "      <td>2823</td>\n",
       "      <td>9071</td>\n",
       "      <td>6092</td>\n",
       "      <td>...</td>\n",
       "      <td>4.433185</td>\n",
       "      <td>4.036358</td>\n",
       "      <td>298.933185</td>\n",
       "      <td>187.761693</td>\n",
       "      <td>0.628106</td>\n",
       "      <td>0.273341</td>\n",
       "      <td>0.171687</td>\n",
       "      <td>51.322940</td>\n",
       "      <td>49.005568</td>\n",
       "      <td>NaN</td>\n",
       "    </tr>\n",
       "    <tr>\n",
       "      <th>row.60</th>\n",
       "      <td>2021</td>\n",
       "      <td>2429</td>\n",
       "      <td>181818</td>\n",
       "      <td>161941</td>\n",
       "      <td>5944</td>\n",
       "      <td>2.447098</td>\n",
       "      <td>671</td>\n",
       "      <td>7863</td>\n",
       "      <td>25006</td>\n",
       "      <td>15794</td>\n",
       "      <td>...</td>\n",
       "      <td>4.434747</td>\n",
       "      <td>3.964470</td>\n",
       "      <td>296.752573</td>\n",
       "      <td>189.159325</td>\n",
       "      <td>0.637431</td>\n",
       "      <td>0.282433</td>\n",
       "      <td>0.180032</td>\n",
       "      <td>53.424866</td>\n",
       "      <td>49.782524</td>\n",
       "      <td>18659.023476</td>\n",
       "    </tr>\n",
       "  </tbody>\n",
       "</table>\n",
       "<p>5 rows × 31 columns</p>\n",
       "</div>"
      ],
      "text/plain": [
       "        Year  Games  PlateAppearances  AtBats  Homeruns  HRperGame  triples  \\\n",
       "row.56  2017   2430            185295  165567      6105   2.512346      795   \n",
       "row.57  2018   2431            185139  165432      5585   2.297408      847   \n",
       "row.58  2019   2429            186517  166651      6776   2.789625      785   \n",
       "row.59  2020    898             66506   59030      2304   2.565702      241   \n",
       "row.60  2021   2429            181818  161941      5944   2.447098      671   \n",
       "\n",
       "        doubles  singles  walks  ...  pitchersPerGame  pitchesPerPA  \\\n",
       "row.56     8397    26918  15829  ...         4.221811      3.958418   \n",
       "row.57     8264    26322  15686  ...         4.360346      3.961110   \n",
       "row.58     8531    25947  15895  ...         4.411486      3.989004   \n",
       "row.59     2823     9071   6092  ...         4.433185      4.036358   \n",
       "row.60     7863    25006  15794  ...         4.434747      3.964470   \n",
       "\n",
       "        pitchesPerGame  strikesPerGame  strikesPerPitch  foulPerStrike  \\\n",
       "row.56      301.841564      191.207819         0.633471       0.279921   \n",
       "row.57      301.668449      191.770053         0.635698       0.278876   \n",
       "row.58      306.305887      194.765336         0.635852       0.283304   \n",
       "row.59      298.933185      187.761693         0.628106       0.273341   \n",
       "row.60      296.752573      189.159325         0.637431       0.282433   \n",
       "\n",
       "        foulPerPitch  foulPerGame  actionIndex    attendance  \n",
       "row.56      0.177322    53.523045    52.509877  29922.623457  \n",
       "row.57      0.177281    53.480049    51.963801  28659.511312  \n",
       "row.58      0.180140    55.177851    51.795698  28203.744751  \n",
       "row.59      0.171687    51.322940    49.005568           NaN  \n",
       "row.60      0.180032    53.424866    49.782524  18659.023476  \n",
       "\n",
       "[5 rows x 31 columns]"
      ]
     },
     "execution_count": 3,
     "metadata": {},
     "output_type": "execute_result"
    }
   ],
   "source": [
    "action_df.tail(5)"
   ]
  },
  {
   "cell_type": "code",
   "execution_count": 4,
   "id": "suffering-accountability",
   "metadata": {},
   "outputs": [
    {
     "data": {
      "image/png": "[encoded data removed]",
      "text/plain": [
       "<Figure size 432x288 with 1 Axes>"
      ]
     },
     "metadata": {
      "needs_background": "light"
     },
     "output_type": "display_data"
    }
   ],
   "source": [
    "plt.plot(action_df['Year'], action_df['actionIndex'], 'r')\n",
    "plt.xlabel('Year')\n",
    "plt.ylabel('Action Index')\n",
    "plt.title('MLB Action Index over Time')\n",
    "plt.show()"
   ]
  },
  {
   "cell_type": "code",
   "execution_count": 5,
   "id": "efficient-editing",
   "metadata": {},
   "outputs": [
    {
     "data": {
      "image/png": "[encoded data removed]",
      "text/plain": [
       "<Figure size 432x288 with 1 Axes>"
      ]
     },
     "metadata": {
      "needs_background": "light"
     },
     "output_type": "display_data"
    }
   ],
   "source": [
    "plt.plot(action_df['Year'], action_df['walks']/action_df['PlateAppearances'])\n",
    "plt.xlabel('Year')\n",
    "plt.ylabel('Walk Percentage')\n",
    "plt.title('MLB Walk Percentage over Time')\n",
    "plt.show()"
   ]
  },
  {
   "cell_type": "code",
   "execution_count": 6,
   "id": "honest-mongolia",
   "metadata": {},
   "outputs": [
    {
     "data": {
      "image/png": "[encoded data removed]",
      "text/plain": [
       "<Figure size 432x288 with 1 Axes>"
      ]
     },
     "metadata": {
      "needs_background": "light"
     },
     "output_type": "display_data"
    }
   ],
   "source": [
    "plt.plot(action_df['Year'], action_df['attendance'], c='orange')\n",
    "#plt.vlines(x=2007, ymin=min(action_df['attendance']), ymax=max(action_df['attendance']), colors='black', ls=':', lw=2, label='2007')\n",
    "plt.xlabel('Year')\n",
    "plt.ylabel('Fan Attendance (per game)')\n",
    "plt.title('MLB Fan Attendance over Time')\n",
    "#plt.legend()\n",
    "plt.show()"
   ]
  },
  {
   "cell_type": "code",
   "execution_count": 7,
   "id": "442a3473",
   "metadata": {},
   "outputs": [
    {
     "data": {
      "image/png": "[encoded data removed]",
      "text/plain": [
       "<Figure size 432x288 with 1 Axes>"
      ]
     },
     "metadata": {
      "needs_background": "light"
     },
     "output_type": "display_data"
    }
   ],
   "source": [
    "plt.plot(action_df['Year'], action_df['actionIndex'], 'red')\n",
    "plt.hlines(y=54.75, xmin=1960, xmax=2021, colors='green', ls=':', lw=2, label='Predicted Action Index')\n",
    "plt.xlabel('Year')\n",
    "plt.ylabel('Action Index')\n",
    "plt.title('MLB Action Index over Time')\n",
    "plt.legend()\n",
    "plt.show()"
   ]
  },
  {
   "cell_type": "markdown",
   "id": "143911bd",
   "metadata": {},
   "source": [
    "## How does adding a DH to the NL affect the Action Index?"
   ]
  },
  {
   "cell_type": "code",
   "execution_count": 8,
   "id": "sharp-alignment",
   "metadata": {},
   "outputs": [],
   "source": [
    "# National League batting data for pitchers and DH for 1971-2021\n",
    "NL_P_bat = pd.read_csv('NL_P_batting.csv')\n",
    "NL_DH_bat = pd.read_csv('NL_DH_batting.csv')"
   ]
  },
  {
   "cell_type": "code",
   "execution_count": 9,
   "id": "arabic-group",
   "metadata": {},
   "outputs": [
    {
     "name": "stdout",
     "output_type": "stream",
     "text": [
      "Percentage of Balls in Play for NL Pitchers from 1971-2021: 0.6381\n",
      "Percentage of Balls in Play for NL Designated Hitters from 1971-2021: 0.643\n"
     ]
    }
   ],
   "source": [
    "# compute the balls in play for each position\n",
    "NL_P_PA = sum(NL_P_bat['PA'])\n",
    "NL_DH_PA = sum(NL_DH_bat['PA'])\n",
    "NL_P_BB = sum(NL_P_bat['BB'])\n",
    "NL_DH_BB = sum(NL_DH_bat['BB'])\n",
    "NL_P_HBP = sum(NL_P_bat['HBP'])\n",
    "NL_DH_HBP = sum(NL_DH_bat['HBP'])\n",
    "NL_P_SO = sum(NL_P_bat['SO'])\n",
    "NL_DH_SO = sum(NL_DH_bat['SO'])\n",
    "\n",
    "NL_P_BIP = NL_P_PA - NL_P_BB - NL_P_HBP - NL_P_SO\n",
    "NL_DH_BIP = NL_DH_PA - NL_DH_BB - NL_DH_HBP - NL_DH_SO\n",
    "\n",
    "print(f'Percentage of Balls in Play for NL Pitchers from 1971-2021: {round(NL_P_BIP / NL_P_PA, 4)}')\n",
    "print(f'Percentage of Balls in Play for NL Designated Hitters from 1971-2021: {round(NL_DH_BIP / NL_DH_PA, 4)}')"
   ]
  },
  {
   "cell_type": "code",
   "execution_count": 10,
   "id": "written-jason",
   "metadata": {},
   "outputs": [
    {
     "name": "stdout",
     "output_type": "stream",
     "text": [
      "Percentage of Balls in Play for NL Pitchers from 2001-2021: 0.6139\n",
      "Percentage of Balls in Play for NL Designated Hitters from 2001-2021: 0.6433\n"
     ]
    }
   ],
   "source": [
    "# repeat analysis but for last 20 years only\n",
    "NL_P_bat_2001 = pd.read_csv('NL_P_batting_2001.csv')\n",
    "NL_DH_bat_2001 = pd.read_csv('NL_DH_batting_2001.csv')\n",
    "\n",
    "NL_P_PA_2001 = sum(NL_P_bat_2001['PA'])\n",
    "NL_DH_PA_2001 = sum(NL_DH_bat_2001['PA'])\n",
    "NL_P_BB_2001 = sum(NL_P_bat_2001['BB'])\n",
    "NL_DH_BB_2001 = sum(NL_DH_bat_2001['BB'])\n",
    "NL_P_HBP_2001 = sum(NL_P_bat_2001['HBP'])\n",
    "NL_DH_HBP_2001 = sum(NL_DH_bat_2001['HBP'])\n",
    "NL_P_SO_2001 = sum(NL_P_bat_2001['SO'])\n",
    "NL_DH_SO_2001 = sum(NL_DH_bat_2001['SO'])\n",
    "\n",
    "NL_P_BIP_2001 = NL_P_PA_2001 - NL_P_BB_2001 - NL_P_HBP_2001 - NL_P_SO_2001\n",
    "NL_DH_BIP_2001 = NL_DH_PA_2001 - NL_DH_BB_2001 - NL_DH_HBP_2001 - NL_DH_SO_2001\n",
    "\n",
    "print(f'Percentage of Balls in Play for NL Pitchers from 2001-2021: {round(NL_P_BIP_2001 / NL_P_PA_2001, 4)}')\n",
    "print(f'Percentage of Balls in Play for NL Designated Hitters from 2001-2021: {round(NL_DH_BIP_2001 / NL_DH_PA_2001, 4)}')"
   ]
  },
  {
   "cell_type": "code",
   "execution_count": 11,
   "id": "disturbed-distribution",
   "metadata": {},
   "outputs": [
    {
     "data": {
      "text/plain": [
       "274.060037910381"
      ]
     },
     "execution_count": 11,
     "metadata": {},
     "output_type": "execute_result"
    }
   ],
   "source": [
    "# Assume pitchers hit 9th, giving least number of at bats per season, average 622 PA per season\n",
    "NL_P_BIP_per_season = 622 * (NL_P_BIP_2001 / NL_P_PA_2001)\n",
    "NL_DH_BIP_per_season = 622 * (NL_DH_BIP_2001 / NL_DH_PA_2001)\n",
    "\n",
    "# increase in batted balls\n",
    "BIP_increase_per_season = 15 * (NL_DH_BIP_per_season - NL_P_BIP_per_season)\n",
    "BIP_increase_per_season"
   ]
  },
  {
   "cell_type": "code",
   "execution_count": 12,
   "id": "suspected-universe",
   "metadata": {},
   "outputs": [
    {
     "data": {
      "text/html": [
       "<div>\n",
       "<style scoped>\n",
       "    .dataframe tbody tr th:only-of-type {\n",
       "        vertical-align: middle;\n",
       "    }\n",
       "\n",
       "    .dataframe tbody tr th {\n",
       "        vertical-align: top;\n",
       "    }\n",
       "\n",
       "    .dataframe thead th {\n",
       "        text-align: right;\n",
       "    }\n",
       "</style>\n",
       "<table border=\"1\" class=\"dataframe\">\n",
       "  <thead>\n",
       "    <tr style=\"text-align: right;\">\n",
       "      <th></th>\n",
       "      <th>Year</th>\n",
       "      <th>Games</th>\n",
       "      <th>PlateAppearances</th>\n",
       "      <th>AtBats</th>\n",
       "      <th>Homeruns</th>\n",
       "      <th>HRperGame</th>\n",
       "      <th>triples</th>\n",
       "      <th>doubles</th>\n",
       "      <th>singles</th>\n",
       "      <th>walks</th>\n",
       "      <th>...</th>\n",
       "      <th>pitchesPerPA</th>\n",
       "      <th>pitchesPerGame</th>\n",
       "      <th>strikesPerGame</th>\n",
       "      <th>strikesPerPitch</th>\n",
       "      <th>foulPerStrike</th>\n",
       "      <th>foulPerPitch</th>\n",
       "      <th>foulPerGame</th>\n",
       "      <th>actionIndex</th>\n",
       "      <th>attendance</th>\n",
       "      <th>NL_DH_actionIndex</th>\n",
       "    </tr>\n",
       "  </thead>\n",
       "  <tbody>\n",
       "    <tr>\n",
       "      <th>0</th>\n",
       "      <td>2001</td>\n",
       "      <td>2429</td>\n",
       "      <td>186976</td>\n",
       "      <td>166234</td>\n",
       "      <td>5458</td>\n",
       "      <td>2.247015</td>\n",
       "      <td>928</td>\n",
       "      <td>8813</td>\n",
       "      <td>28680</td>\n",
       "      <td>15806</td>\n",
       "      <td>...</td>\n",
       "      <td>3.770147</td>\n",
       "      <td>290.212845</td>\n",
       "      <td>182.300947</td>\n",
       "      <td>0.628163</td>\n",
       "      <td>0.273849</td>\n",
       "      <td>0.172022</td>\n",
       "      <td>49.923014</td>\n",
       "      <td>56.350762</td>\n",
       "      <td>29848.494854</td>\n",
       "      <td>56.463565</td>\n",
       "    </tr>\n",
       "    <tr>\n",
       "      <th>1</th>\n",
       "      <td>2002</td>\n",
       "      <td>2426</td>\n",
       "      <td>186615</td>\n",
       "      <td>165582</td>\n",
       "      <td>5059</td>\n",
       "      <td>2.085326</td>\n",
       "      <td>921</td>\n",
       "      <td>8700</td>\n",
       "      <td>28592</td>\n",
       "      <td>16246</td>\n",
       "      <td>...</td>\n",
       "      <td>3.775763</td>\n",
       "      <td>290.442704</td>\n",
       "      <td>181.866859</td>\n",
       "      <td>0.626171</td>\n",
       "      <td>0.273718</td>\n",
       "      <td>0.171395</td>\n",
       "      <td>49.780297</td>\n",
       "      <td>56.565952</td>\n",
       "      <td>28006.840890</td>\n",
       "      <td>56.678895</td>\n",
       "    </tr>\n",
       "    <tr>\n",
       "      <th>2</th>\n",
       "      <td>2003</td>\n",
       "      <td>2430</td>\n",
       "      <td>187449</td>\n",
       "      <td>166737</td>\n",
       "      <td>5207</td>\n",
       "      <td>2.142798</td>\n",
       "      <td>934</td>\n",
       "      <td>8827</td>\n",
       "      <td>29089</td>\n",
       "      <td>15889</td>\n",
       "      <td>...</td>\n",
       "      <td>3.779273</td>\n",
       "      <td>291.531276</td>\n",
       "      <td>183.070782</td>\n",
       "      <td>0.627963</td>\n",
       "      <td>0.270495</td>\n",
       "      <td>0.169861</td>\n",
       "      <td>49.519753</td>\n",
       "      <td>57.164609</td>\n",
       "      <td>27839.865432</td>\n",
       "      <td>57.277366</td>\n",
       "    </tr>\n",
       "    <tr>\n",
       "      <th>3</th>\n",
       "      <td>2004</td>\n",
       "      <td>2428</td>\n",
       "      <td>188539</td>\n",
       "      <td>167353</td>\n",
       "      <td>5451</td>\n",
       "      <td>2.245058</td>\n",
       "      <td>898</td>\n",
       "      <td>8919</td>\n",
       "      <td>29254</td>\n",
       "      <td>16222</td>\n",
       "      <td>...</td>\n",
       "      <td>3.801436</td>\n",
       "      <td>295.189044</td>\n",
       "      <td>184.942751</td>\n",
       "      <td>0.626523</td>\n",
       "      <td>0.273227</td>\n",
       "      <td>0.171183</td>\n",
       "      <td>50.531301</td>\n",
       "      <td>57.100082</td>\n",
       "      <td>30073.866145</td>\n",
       "      <td>57.212932</td>\n",
       "    </tr>\n",
       "    <tr>\n",
       "      <th>4</th>\n",
       "      <td>2005</td>\n",
       "      <td>2431</td>\n",
       "      <td>186292</td>\n",
       "      <td>166335</td>\n",
       "      <td>5017</td>\n",
       "      <td>2.063760</td>\n",
       "      <td>888</td>\n",
       "      <td>8863</td>\n",
       "      <td>29223</td>\n",
       "      <td>15207</td>\n",
       "      <td>...</td>\n",
       "      <td>3.772331</td>\n",
       "      <td>289.080625</td>\n",
       "      <td>182.670506</td>\n",
       "      <td>0.631902</td>\n",
       "      <td>0.272418</td>\n",
       "      <td>0.172141</td>\n",
       "      <td>49.762649</td>\n",
       "      <td>57.031674</td>\n",
       "      <td>30817.350884</td>\n",
       "      <td>57.144385</td>\n",
       "    </tr>\n",
       "  </tbody>\n",
       "</table>\n",
       "<p>5 rows × 32 columns</p>\n",
       "</div>"
      ],
      "text/plain": [
       "   Year  Games  PlateAppearances  AtBats  Homeruns  HRperGame  triples  \\\n",
       "0  2001   2429            186976  166234      5458   2.247015      928   \n",
       "1  2002   2426            186615  165582      5059   2.085326      921   \n",
       "2  2003   2430            187449  166737      5207   2.142798      934   \n",
       "3  2004   2428            188539  167353      5451   2.245058      898   \n",
       "4  2005   2431            186292  166335      5017   2.063760      888   \n",
       "\n",
       "   doubles  singles  walks  ...  pitchesPerPA  pitchesPerGame  strikesPerGame  \\\n",
       "0     8813    28680  15806  ...      3.770147      290.212845      182.300947   \n",
       "1     8700    28592  16246  ...      3.775763      290.442704      181.866859   \n",
       "2     8827    29089  15889  ...      3.779273      291.531276      183.070782   \n",
       "3     8919    29254  16222  ...      3.801436      295.189044      184.942751   \n",
       "4     8863    29223  15207  ...      3.772331      289.080625      182.670506   \n",
       "\n",
       "   strikesPerPitch  foulPerStrike  foulPerPitch  foulPerGame  actionIndex  \\\n",
       "0         0.628163       0.273849      0.172022    49.923014    56.350762   \n",
       "1         0.626171       0.273718      0.171395    49.780297    56.565952   \n",
       "2         0.627963       0.270495      0.169861    49.519753    57.164609   \n",
       "3         0.626523       0.273227      0.171183    50.531301    57.100082   \n",
       "4         0.631902       0.272418      0.172141    49.762649    57.031674   \n",
       "\n",
       "     attendance  NL_DH_actionIndex  \n",
       "0  29848.494854          56.463565  \n",
       "1  28006.840890          56.678895  \n",
       "2  27839.865432          57.277366  \n",
       "3  30073.866145          57.212932  \n",
       "4  30817.350884          57.144385  \n",
       "\n",
       "[5 rows x 32 columns]"
      ]
     },
     "execution_count": 12,
     "metadata": {},
     "output_type": "execute_result"
    }
   ],
   "source": [
    "# calculate NL_DH_actionIndex\n",
    "action_2001_df = action_df[action_df['Year'] >= 2001]\n",
    "action_2001_df = action_2001_df.reset_index(drop=True)\n",
    "action_2001_df['NL_DH_actionIndex'] = ((action_2001_df['actionIndex'] * action_2001_df['Games']) + 274) / action_2001_df['Games']\n",
    "action_2001_df.head(5)"
   ]
  },
  {
   "cell_type": "code",
   "execution_count": 13,
   "id": "amino-aviation",
   "metadata": {},
   "outputs": [
    {
     "data": {
      "image/png": "[encoded data removed]",
      "text/plain": [
       "<Figure size 432x288 with 1 Axes>"
      ]
     },
     "metadata": {
      "needs_background": "light"
     },
     "output_type": "display_data"
    }
   ],
   "source": [
    "# plot comparing the two action indices\n",
    "plt.plot(action_2001_df['Year'], action_2001_df['actionIndex'], label='No NL DH')\n",
    "plt.plot(action_2001_df['Year'], action_2001_df['NL_DH_actionIndex'], label='NL DH')\n",
    "plt.xlabel('Year')\n",
    "plt.ylabel('Action Index')\n",
    "plt.title('MLB Action Indices over Time')\n",
    "plt.legend()\n",
    "plt.show()"
   ]
  },
  {
   "cell_type": "markdown",
   "id": "statutory-metabolism",
   "metadata": {},
   "source": [
    "# How does moving the pitchers mound back affect the Action Index?"
   ]
  },
  {
   "cell_type": "code",
   "execution_count": 14,
   "id": "electronic-silver",
   "metadata": {},
   "outputs": [],
   "source": [
    "pitchdata_df = pd.read_csv('pitchmakeup.csv')\n",
    "outcomes_df = pd.read_csv('outcomes.csv')"
   ]
  },
  {
   "cell_type": "code",
   "execution_count": 15,
   "id": "latest-context",
   "metadata": {},
   "outputs": [
    {
     "data": {
      "text/html": [
       "<div>\n",
       "<style scoped>\n",
       "    .dataframe tbody tr th:only-of-type {\n",
       "        vertical-align: middle;\n",
       "    }\n",
       "\n",
       "    .dataframe tbody tr th {\n",
       "        vertical-align: top;\n",
       "    }\n",
       "\n",
       "    .dataframe thead th {\n",
       "        text-align: right;\n",
       "    }\n",
       "</style>\n",
       "<table border=\"1\" class=\"dataframe\">\n",
       "  <thead>\n",
       "    <tr style=\"text-align: right;\">\n",
       "      <th></th>\n",
       "      <th>Name</th>\n",
       "      <th>Team</th>\n",
       "      <th>FB.</th>\n",
       "      <th>FBv</th>\n",
       "      <th>SL.</th>\n",
       "      <th>SLv</th>\n",
       "      <th>CT.</th>\n",
       "      <th>CTv</th>\n",
       "      <th>CB.</th>\n",
       "      <th>CBv</th>\n",
       "      <th>CH.</th>\n",
       "      <th>CHv</th>\n",
       "      <th>SF.</th>\n",
       "      <th>SFv</th>\n",
       "      <th>KN.</th>\n",
       "      <th>KNv</th>\n",
       "      <th>XX.</th>\n",
       "      <th>playerid</th>\n",
       "      <th>year</th>\n",
       "    </tr>\n",
       "  </thead>\n",
       "  <tbody>\n",
       "    <tr>\n",
       "      <th>1</th>\n",
       "      <td>Emmanuel Clase</td>\n",
       "      <td>CLE</td>\n",
       "      <td>70.10%</td>\n",
       "      <td>100.3</td>\n",
       "      <td>29.90%</td>\n",
       "      <td>91.9</td>\n",
       "      <td>NaN</td>\n",
       "      <td>NaN</td>\n",
       "      <td>NaN</td>\n",
       "      <td>NaN</td>\n",
       "      <td>NaN</td>\n",
       "      <td>NaN</td>\n",
       "      <td>NaN</td>\n",
       "      <td>NaN</td>\n",
       "      <td>NaN</td>\n",
       "      <td>NaN</td>\n",
       "      <td>0.60%</td>\n",
       "      <td>21032</td>\n",
       "      <td>2021</td>\n",
       "    </tr>\n",
       "    <tr>\n",
       "      <th>2</th>\n",
       "      <td>Jose Alvarado</td>\n",
       "      <td>PHI</td>\n",
       "      <td>80.60%</td>\n",
       "      <td>99.4</td>\n",
       "      <td>16.10%</td>\n",
       "      <td>94.1</td>\n",
       "      <td>NaN</td>\n",
       "      <td>NaN</td>\n",
       "      <td>3.30%</td>\n",
       "      <td>87.1</td>\n",
       "      <td>NaN</td>\n",
       "      <td>NaN</td>\n",
       "      <td>NaN</td>\n",
       "      <td>NaN</td>\n",
       "      <td>NaN</td>\n",
       "      <td>NaN</td>\n",
       "      <td>1.50%</td>\n",
       "      <td>17780</td>\n",
       "      <td>2021</td>\n",
       "    </tr>\n",
       "    <tr>\n",
       "      <th>3</th>\n",
       "      <td>Jacob deGrom</td>\n",
       "      <td>NYM</td>\n",
       "      <td>57.40%</td>\n",
       "      <td>99.3</td>\n",
       "      <td>33.40%</td>\n",
       "      <td>91.6</td>\n",
       "      <td>NaN</td>\n",
       "      <td>NaN</td>\n",
       "      <td>0.30%</td>\n",
       "      <td>83.5</td>\n",
       "      <td>8.90%</td>\n",
       "      <td>91.4</td>\n",
       "      <td>NaN</td>\n",
       "      <td>NaN</td>\n",
       "      <td>NaN</td>\n",
       "      <td>NaN</td>\n",
       "      <td>NaN</td>\n",
       "      <td>10954</td>\n",
       "      <td>2021</td>\n",
       "    </tr>\n",
       "    <tr>\n",
       "      <th>4</th>\n",
       "      <td>Edwin Diaz</td>\n",
       "      <td>NYM</td>\n",
       "      <td>62.20%</td>\n",
       "      <td>98.8</td>\n",
       "      <td>37.80%</td>\n",
       "      <td>90.7</td>\n",
       "      <td>NaN</td>\n",
       "      <td>NaN</td>\n",
       "      <td>NaN</td>\n",
       "      <td>NaN</td>\n",
       "      <td>NaN</td>\n",
       "      <td>NaN</td>\n",
       "      <td>NaN</td>\n",
       "      <td>NaN</td>\n",
       "      <td>NaN</td>\n",
       "      <td>NaN</td>\n",
       "      <td>0.40%</td>\n",
       "      <td>14710</td>\n",
       "      <td>2021</td>\n",
       "    </tr>\n",
       "    <tr>\n",
       "      <th>5</th>\n",
       "      <td>Aroldis Chapman</td>\n",
       "      <td>NYY</td>\n",
       "      <td>62.30%</td>\n",
       "      <td>98.5</td>\n",
       "      <td>26.70%</td>\n",
       "      <td>85.1</td>\n",
       "      <td>NaN</td>\n",
       "      <td>NaN</td>\n",
       "      <td>NaN</td>\n",
       "      <td>NaN</td>\n",
       "      <td>NaN</td>\n",
       "      <td>NaN</td>\n",
       "      <td>11.10%</td>\n",
       "      <td>88.5</td>\n",
       "      <td>NaN</td>\n",
       "      <td>NaN</td>\n",
       "      <td>0.80%</td>\n",
       "      <td>10233</td>\n",
       "      <td>2021</td>\n",
       "    </tr>\n",
       "  </tbody>\n",
       "</table>\n",
       "</div>"
      ],
      "text/plain": [
       "              Name Team     FB.    FBv     SL.   SLv  CT.  CTv    CB.   CBv  \\\n",
       "1   Emmanuel Clase  CLE  70.10%  100.3  29.90%  91.9  NaN  NaN    NaN   NaN   \n",
       "2    Jose Alvarado  PHI  80.60%   99.4  16.10%  94.1  NaN  NaN  3.30%  87.1   \n",
       "3     Jacob deGrom  NYM  57.40%   99.3  33.40%  91.6  NaN  NaN  0.30%  83.5   \n",
       "4       Edwin Diaz  NYM  62.20%   98.8  37.80%  90.7  NaN  NaN    NaN   NaN   \n",
       "5  Aroldis Chapman  NYY  62.30%   98.5  26.70%  85.1  NaN  NaN    NaN   NaN   \n",
       "\n",
       "     CH.   CHv     SF.   SFv  KN.  KNv    XX.  playerid  year  \n",
       "1    NaN   NaN     NaN   NaN  NaN  NaN  0.60%     21032  2021  \n",
       "2    NaN   NaN     NaN   NaN  NaN  NaN  1.50%     17780  2021  \n",
       "3  8.90%  91.4     NaN   NaN  NaN  NaN    NaN     10954  2021  \n",
       "4    NaN   NaN     NaN   NaN  NaN  NaN  0.40%     14710  2021  \n",
       "5    NaN   NaN  11.10%  88.5  NaN  NaN  0.80%     10233  2021  "
      ]
     },
     "execution_count": 15,
     "metadata": {},
     "output_type": "execute_result"
    }
   ],
   "source": [
    "pitchdata_df.head(5)"
   ]
  },
  {
   "cell_type": "code",
   "execution_count": 16,
   "id": "painful-press",
   "metadata": {},
   "outputs": [
    {
     "data": {
      "text/html": [
       "<div>\n",
       "<style scoped>\n",
       "    .dataframe tbody tr th:only-of-type {\n",
       "        vertical-align: middle;\n",
       "    }\n",
       "\n",
       "    .dataframe tbody tr th {\n",
       "        vertical-align: top;\n",
       "    }\n",
       "\n",
       "    .dataframe thead th {\n",
       "        text-align: right;\n",
       "    }\n",
       "</style>\n",
       "<table border=\"1\" class=\"dataframe\">\n",
       "  <thead>\n",
       "    <tr style=\"text-align: right;\">\n",
       "      <th></th>\n",
       "      <th>Name</th>\n",
       "      <th>Team</th>\n",
       "      <th>W</th>\n",
       "      <th>L</th>\n",
       "      <th>ERA</th>\n",
       "      <th>G</th>\n",
       "      <th>GS</th>\n",
       "      <th>CG</th>\n",
       "      <th>ShO</th>\n",
       "      <th>SV</th>\n",
       "      <th>...</th>\n",
       "      <th>HR</th>\n",
       "      <th>BB</th>\n",
       "      <th>IBB</th>\n",
       "      <th>HBP</th>\n",
       "      <th>WP</th>\n",
       "      <th>BK</th>\n",
       "      <th>SO</th>\n",
       "      <th>playerid</th>\n",
       "      <th>year</th>\n",
       "      <th>batBall</th>\n",
       "    </tr>\n",
       "  </thead>\n",
       "  <tbody>\n",
       "    <tr>\n",
       "      <th>1</th>\n",
       "      <td>Aaron Loup</td>\n",
       "      <td>NYM</td>\n",
       "      <td>6</td>\n",
       "      <td>0</td>\n",
       "      <td>0.95</td>\n",
       "      <td>65</td>\n",
       "      <td>2</td>\n",
       "      <td>0</td>\n",
       "      <td>0</td>\n",
       "      <td>0</td>\n",
       "      <td>...</td>\n",
       "      <td>1</td>\n",
       "      <td>16</td>\n",
       "      <td>0</td>\n",
       "      <td>4</td>\n",
       "      <td>0</td>\n",
       "      <td>0</td>\n",
       "      <td>57</td>\n",
       "      <td>10343</td>\n",
       "      <td>2021</td>\n",
       "      <td>141</td>\n",
       "    </tr>\n",
       "    <tr>\n",
       "      <th>2</th>\n",
       "      <td>Jacob deGrom</td>\n",
       "      <td>NYM</td>\n",
       "      <td>7</td>\n",
       "      <td>2</td>\n",
       "      <td>1.08</td>\n",
       "      <td>15</td>\n",
       "      <td>15</td>\n",
       "      <td>1</td>\n",
       "      <td>1</td>\n",
       "      <td>0</td>\n",
       "      <td>...</td>\n",
       "      <td>6</td>\n",
       "      <td>11</td>\n",
       "      <td>0</td>\n",
       "      <td>1</td>\n",
       "      <td>0</td>\n",
       "      <td>0</td>\n",
       "      <td>146</td>\n",
       "      <td>10954</td>\n",
       "      <td>2021</td>\n",
       "      <td>166</td>\n",
       "    </tr>\n",
       "    <tr>\n",
       "      <th>3</th>\n",
       "      <td>Josh Hader</td>\n",
       "      <td>MIL</td>\n",
       "      <td>4</td>\n",
       "      <td>2</td>\n",
       "      <td>1.23</td>\n",
       "      <td>60</td>\n",
       "      <td>0</td>\n",
       "      <td>0</td>\n",
       "      <td>0</td>\n",
       "      <td>34</td>\n",
       "      <td>...</td>\n",
       "      <td>3</td>\n",
       "      <td>24</td>\n",
       "      <td>0</td>\n",
       "      <td>2</td>\n",
       "      <td>3</td>\n",
       "      <td>2</td>\n",
       "      <td>102</td>\n",
       "      <td>14212</td>\n",
       "      <td>2021</td>\n",
       "      <td>96</td>\n",
       "    </tr>\n",
       "    <tr>\n",
       "      <th>4</th>\n",
       "      <td>Emmanuel Clase</td>\n",
       "      <td>CLE</td>\n",
       "      <td>4</td>\n",
       "      <td>5</td>\n",
       "      <td>1.29</td>\n",
       "      <td>71</td>\n",
       "      <td>0</td>\n",
       "      <td>0</td>\n",
       "      <td>0</td>\n",
       "      <td>24</td>\n",
       "      <td>...</td>\n",
       "      <td>2</td>\n",
       "      <td>16</td>\n",
       "      <td>3</td>\n",
       "      <td>0</td>\n",
       "      <td>3</td>\n",
       "      <td>1</td>\n",
       "      <td>74</td>\n",
       "      <td>21032</td>\n",
       "      <td>2021</td>\n",
       "      <td>186</td>\n",
       "    </tr>\n",
       "    <tr>\n",
       "      <th>5</th>\n",
       "      <td>Ranger Suarez</td>\n",
       "      <td>PHI</td>\n",
       "      <td>8</td>\n",
       "      <td>5</td>\n",
       "      <td>1.36</td>\n",
       "      <td>39</td>\n",
       "      <td>12</td>\n",
       "      <td>1</td>\n",
       "      <td>1</td>\n",
       "      <td>4</td>\n",
       "      <td>...</td>\n",
       "      <td>4</td>\n",
       "      <td>33</td>\n",
       "      <td>3</td>\n",
       "      <td>5</td>\n",
       "      <td>1</td>\n",
       "      <td>0</td>\n",
       "      <td>107</td>\n",
       "      <td>17277</td>\n",
       "      <td>2021</td>\n",
       "      <td>270</td>\n",
       "    </tr>\n",
       "  </tbody>\n",
       "</table>\n",
       "<p>5 rows × 27 columns</p>\n",
       "</div>"
      ],
      "text/plain": [
       "             Name Team  W  L   ERA   G  GS  CG  ShO  SV  ...  HR  BB  IBB  \\\n",
       "1      Aaron Loup  NYM  6  0  0.95  65   2   0    0   0  ...   1  16    0   \n",
       "2    Jacob deGrom  NYM  7  2  1.08  15  15   1    1   0  ...   6  11    0   \n",
       "3      Josh Hader  MIL  4  2  1.23  60   0   0    0  34  ...   3  24    0   \n",
       "4  Emmanuel Clase  CLE  4  5  1.29  71   0   0    0  24  ...   2  16    3   \n",
       "5   Ranger Suarez  PHI  8  5  1.36  39  12   1    1   4  ...   4  33    3   \n",
       "\n",
       "   HBP  WP  BK   SO  playerid  year  batBall  \n",
       "1    4   0   0   57     10343  2021      141  \n",
       "2    1   0   0  146     10954  2021      166  \n",
       "3    2   3   2  102     14212  2021       96  \n",
       "4    0   3   1   74     21032  2021      186  \n",
       "5    5   1   0  107     17277  2021      270  \n",
       "\n",
       "[5 rows x 27 columns]"
      ]
     },
     "execution_count": 16,
     "metadata": {},
     "output_type": "execute_result"
    }
   ],
   "source": [
    "outcomes_df.head(5)"
   ]
  },
  {
   "cell_type": "code",
   "execution_count": 17,
   "id": "mineral-basin",
   "metadata": {},
   "outputs": [
    {
     "data": {
      "text/html": [
       "<div>\n",
       "<style scoped>\n",
       "    .dataframe tbody tr th:only-of-type {\n",
       "        vertical-align: middle;\n",
       "    }\n",
       "\n",
       "    .dataframe tbody tr th {\n",
       "        vertical-align: top;\n",
       "    }\n",
       "\n",
       "    .dataframe thead th {\n",
       "        text-align: right;\n",
       "    }\n",
       "</style>\n",
       "<table border=\"1\" class=\"dataframe\">\n",
       "  <thead>\n",
       "    <tr style=\"text-align: right;\">\n",
       "      <th></th>\n",
       "      <th>Name_x</th>\n",
       "      <th>Team_x</th>\n",
       "      <th>FB.</th>\n",
       "      <th>FBv</th>\n",
       "      <th>SL.</th>\n",
       "      <th>SLv</th>\n",
       "      <th>CT.</th>\n",
       "      <th>CTv</th>\n",
       "      <th>CB.</th>\n",
       "      <th>CBv</th>\n",
       "      <th>...</th>\n",
       "      <th>R</th>\n",
       "      <th>ER</th>\n",
       "      <th>HR</th>\n",
       "      <th>BB</th>\n",
       "      <th>IBB</th>\n",
       "      <th>HBP</th>\n",
       "      <th>WP</th>\n",
       "      <th>BK</th>\n",
       "      <th>SO</th>\n",
       "      <th>batBall</th>\n",
       "    </tr>\n",
       "  </thead>\n",
       "  <tbody>\n",
       "    <tr>\n",
       "      <th>0</th>\n",
       "      <td>Emmanuel Clase</td>\n",
       "      <td>CLE</td>\n",
       "      <td>70.10%</td>\n",
       "      <td>100.3</td>\n",
       "      <td>29.90%</td>\n",
       "      <td>91.9</td>\n",
       "      <td>NaN</td>\n",
       "      <td>NaN</td>\n",
       "      <td>NaN</td>\n",
       "      <td>NaN</td>\n",
       "      <td>...</td>\n",
       "      <td>18</td>\n",
       "      <td>10</td>\n",
       "      <td>2</td>\n",
       "      <td>16</td>\n",
       "      <td>3</td>\n",
       "      <td>0</td>\n",
       "      <td>3</td>\n",
       "      <td>1</td>\n",
       "      <td>74</td>\n",
       "      <td>186</td>\n",
       "    </tr>\n",
       "    <tr>\n",
       "      <th>1</th>\n",
       "      <td>Jose Alvarado</td>\n",
       "      <td>PHI</td>\n",
       "      <td>80.60%</td>\n",
       "      <td>99.4</td>\n",
       "      <td>16.10%</td>\n",
       "      <td>94.1</td>\n",
       "      <td>NaN</td>\n",
       "      <td>NaN</td>\n",
       "      <td>3.30%</td>\n",
       "      <td>87.1</td>\n",
       "      <td>...</td>\n",
       "      <td>30</td>\n",
       "      <td>26</td>\n",
       "      <td>5</td>\n",
       "      <td>47</td>\n",
       "      <td>5</td>\n",
       "      <td>7</td>\n",
       "      <td>9</td>\n",
       "      <td>1</td>\n",
       "      <td>68</td>\n",
       "      <td>124</td>\n",
       "    </tr>\n",
       "    <tr>\n",
       "      <th>2</th>\n",
       "      <td>Jacob deGrom</td>\n",
       "      <td>NYM</td>\n",
       "      <td>57.40%</td>\n",
       "      <td>99.3</td>\n",
       "      <td>33.40%</td>\n",
       "      <td>91.6</td>\n",
       "      <td>NaN</td>\n",
       "      <td>NaN</td>\n",
       "      <td>0.30%</td>\n",
       "      <td>83.5</td>\n",
       "      <td>...</td>\n",
       "      <td>14</td>\n",
       "      <td>11</td>\n",
       "      <td>6</td>\n",
       "      <td>11</td>\n",
       "      <td>0</td>\n",
       "      <td>1</td>\n",
       "      <td>0</td>\n",
       "      <td>0</td>\n",
       "      <td>146</td>\n",
       "      <td>166</td>\n",
       "    </tr>\n",
       "    <tr>\n",
       "      <th>3</th>\n",
       "      <td>Edwin Diaz</td>\n",
       "      <td>NYM</td>\n",
       "      <td>62.20%</td>\n",
       "      <td>98.8</td>\n",
       "      <td>37.80%</td>\n",
       "      <td>90.7</td>\n",
       "      <td>NaN</td>\n",
       "      <td>NaN</td>\n",
       "      <td>NaN</td>\n",
       "      <td>NaN</td>\n",
       "      <td>...</td>\n",
       "      <td>27</td>\n",
       "      <td>24</td>\n",
       "      <td>3</td>\n",
       "      <td>23</td>\n",
       "      <td>1</td>\n",
       "      <td>9</td>\n",
       "      <td>5</td>\n",
       "      <td>1</td>\n",
       "      <td>89</td>\n",
       "      <td>135</td>\n",
       "    </tr>\n",
       "    <tr>\n",
       "      <th>4</th>\n",
       "      <td>Aroldis Chapman</td>\n",
       "      <td>NYY</td>\n",
       "      <td>62.30%</td>\n",
       "      <td>98.5</td>\n",
       "      <td>26.70%</td>\n",
       "      <td>85.1</td>\n",
       "      <td>NaN</td>\n",
       "      <td>NaN</td>\n",
       "      <td>NaN</td>\n",
       "      <td>NaN</td>\n",
       "      <td>...</td>\n",
       "      <td>23</td>\n",
       "      <td>21</td>\n",
       "      <td>9</td>\n",
       "      <td>38</td>\n",
       "      <td>2</td>\n",
       "      <td>3</td>\n",
       "      <td>7</td>\n",
       "      <td>0</td>\n",
       "      <td>97</td>\n",
       "      <td>103</td>\n",
       "    </tr>\n",
       "  </tbody>\n",
       "</table>\n",
       "<p>5 rows × 44 columns</p>\n",
       "</div>"
      ],
      "text/plain": [
       "            Name_x Team_x     FB.    FBv     SL.   SLv  CT.  CTv    CB.   CBv  \\\n",
       "0   Emmanuel Clase    CLE  70.10%  100.3  29.90%  91.9  NaN  NaN    NaN   NaN   \n",
       "1    Jose Alvarado    PHI  80.60%   99.4  16.10%  94.1  NaN  NaN  3.30%  87.1   \n",
       "2     Jacob deGrom    NYM  57.40%   99.3  33.40%  91.6  NaN  NaN  0.30%  83.5   \n",
       "3       Edwin Diaz    NYM  62.20%   98.8  37.80%  90.7  NaN  NaN    NaN   NaN   \n",
       "4  Aroldis Chapman    NYY  62.30%   98.5  26.70%  85.1  NaN  NaN    NaN   NaN   \n",
       "\n",
       "   ...   R  ER HR  BB IBB  HBP WP  BK   SO batBall  \n",
       "0  ...  18  10  2  16   3    0  3   1   74     186  \n",
       "1  ...  30  26  5  47   5    7  9   1   68     124  \n",
       "2  ...  14  11  6  11   0    1  0   0  146     166  \n",
       "3  ...  27  24  3  23   1    9  5   1   89     135  \n",
       "4  ...  23  21  9  38   2    3  7   0   97     103  \n",
       "\n",
       "[5 rows x 44 columns]"
      ]
     },
     "execution_count": 17,
     "metadata": {},
     "output_type": "execute_result"
    }
   ],
   "source": [
    "merged_df = pd.merge(pitchdata_df, outcomes_df, on=['playerid','year'])\n",
    "merged_df.head(5)"
   ]
  },
  {
   "cell_type": "code",
   "execution_count": 18,
   "id": "perfect-roommate",
   "metadata": {},
   "outputs": [
    {
     "data": {
      "image/png": "[encoded data removed]",
      "text/plain": [
       "<Figure size 432x288 with 1 Axes>"
      ]
     },
     "metadata": {
      "needs_background": "light"
     },
     "output_type": "display_data"
    }
   ],
   "source": [
    "plt.scatter(merged_df['FBv'], merged_df['batBall'])\n",
    "plt.xlabel('Average Fastball velocity')\n",
    "plt.ylabel('Batted balls in a season')\n",
    "plt.title('Batted Balls vs Fastball Velo')\n",
    "plt.show()"
   ]
  },
  {
   "cell_type": "code",
   "execution_count": 19,
   "id": "permanent-tractor",
   "metadata": {},
   "outputs": [
    {
     "data": {
      "image/png": "[encoded data removed]",
      "text/plain": [
       "<Figure size 432x288 with 1 Axes>"
      ]
     },
     "metadata": {
      "needs_background": "light"
     },
     "output_type": "display_data"
    }
   ],
   "source": [
    "plt.scatter(merged_df['CBv'], merged_df['batBall'])\n",
    "plt.xlabel('Average Curveball velocity')\n",
    "plt.ylabel('Batted balls in a season')\n",
    "plt.title('Batted Balls vs Curveball Velo')\n",
    "plt.show()"
   ]
  },
  {
   "cell_type": "code",
   "execution_count": 20,
   "id": "opening-cruise",
   "metadata": {},
   "outputs": [
    {
     "data": {
      "image/png": "[encoded data removed]",
      "text/plain": [
       "<Figure size 576x576 with 2 Axes>"
      ]
     },
     "metadata": {
      "needs_background": "light"
     },
     "output_type": "display_data"
    }
   ],
   "source": [
    "fig = plt.figure(figsize=(8,8))\n",
    "ax = fig.add_subplot(111, projection='3d')\n",
    "velo_df = merged_df.dropna(subset=['FBv', 'CBv', 'batBall'])\n",
    "cmap='viridis'\n",
    "ax.scatter(velo_df['FBv'], velo_df['CBv'], velo_df['batBall']/velo_df['TBF'], c=velo_df['batBall']/velo_df['TBF'],\n",
    "                cmap=cmap, linewidth=0.5)\n",
    "sm = plt.cm.ScalarMappable(cmap=cmap)\n",
    "fig.colorbar(sm, fraction=0.02, pad=0.01)\n",
    "ax.set_title('Batted Ball Percentage vs Fastball and Curveball Velocity')\n",
    "ax.set_xlabel('Average Fastball Velocity')\n",
    "ax.set_ylabel('Average Curveball Veclocity')\n",
    "ax.set_zlabel('Batted Ball Percentage over a season')\n",
    "ax.view_init(elev=15, azim=0)"
   ]
  },
  {
   "cell_type": "code",
   "execution_count": 21,
   "id": "becoming-preference",
   "metadata": {},
   "outputs": [],
   "source": [
    "from sklearn.linear_model import LinearRegression\n",
    "X = velo_df[['FBv', 'CBv']]\n",
    "X = X.reset_index(drop=True)\n",
    "y = velo_df['batBall'] / velo_df['TBF']\n",
    "y = y.reset_index(drop=True)\n",
    "regr = LinearRegression().fit(X, y)\n",
    "preds = regr.predict(X)\n",
    "xx, yy = np.meshgrid(velo_df['FBv'], velo_df['CBv'])\n",
    "z = regr.intercept_ + regr.coef_[0]*xx + regr.coef_[1]*yy"
   ]
  },
  {
   "cell_type": "markdown",
   "id": "a084aa9a",
   "metadata": {},
   "source": [
    "### Check for statistical significance"
   ]
  },
  {
   "cell_type": "code",
   "execution_count": 22,
   "id": "9560e202",
   "metadata": {},
   "outputs": [
    {
     "name": "stderr",
     "output_type": "stream",
     "text": [
      "C:\\Users\\btiv\\anaconda3\\lib\\site-packages\\statsmodels\\compat\\pandas.py:61: FutureWarning: pandas.Int64Index is deprecated and will be removed from pandas in a future version. Use pandas.Index with the appropriate dtype instead.\n",
      "  from pandas import Int64Index as NumericIndex\n"
     ]
    }
   ],
   "source": [
    "import statsmodels.api as sm"
   ]
  },
  {
   "cell_type": "code",
   "execution_count": 23,
   "id": "708d526b",
   "metadata": {},
   "outputs": [
    {
     "data": {
      "text/html": [
       "<table class=\"simpletable\">\n",
       "<caption>OLS Regression Results</caption>\n",
       "<tr>\n",
       "  <th>Dep. Variable:</th>            <td>y</td>        <th>  R-squared:         </th>  <td>   0.267</td> \n",
       "</tr>\n",
       "<tr>\n",
       "  <th>Model:</th>                   <td>OLS</td>       <th>  Adj. R-squared:    </th>  <td>   0.266</td> \n",
       "</tr>\n",
       "<tr>\n",
       "  <th>Method:</th>             <td>Least Squares</td>  <th>  F-statistic:       </th>  <td>   634.9</td> \n",
       "</tr>\n",
       "<tr>\n",
       "  <th>Date:</th>             <td>Tue, 26 Jul 2022</td> <th>  Prob (F-statistic):</th>  <td>6.79e-236</td>\n",
       "</tr>\n",
       "<tr>\n",
       "  <th>Time:</th>                 <td>21:43:38</td>     <th>  Log-Likelihood:    </th>  <td>  5141.5</td> \n",
       "</tr>\n",
       "<tr>\n",
       "  <th>No. Observations:</th>      <td>  3494</td>      <th>  AIC:               </th> <td>-1.028e+04</td>\n",
       "</tr>\n",
       "<tr>\n",
       "  <th>Df Residuals:</th>          <td>  3491</td>      <th>  BIC:               </th> <td>-1.026e+04</td>\n",
       "</tr>\n",
       "<tr>\n",
       "  <th>Df Model:</th>              <td>     2</td>      <th>                     </th>      <td> </td>    \n",
       "</tr>\n",
       "<tr>\n",
       "  <th>Covariance Type:</th>      <td>nonrobust</td>    <th>                     </th>      <td> </td>    \n",
       "</tr>\n",
       "</table>\n",
       "<table class=\"simpletable\">\n",
       "<tr>\n",
       "    <td></td>       <th>coef</th>     <th>std err</th>      <th>t</th>      <th>P>|t|</th>  <th>[0.025</th>    <th>0.975]</th>  \n",
       "</tr>\n",
       "<tr>\n",
       "  <th>const</th> <td>    1.8319</td> <td>    0.032</td> <td>   57.469</td> <td> 0.000</td> <td>    1.769</td> <td>    1.894</td>\n",
       "</tr>\n",
       "<tr>\n",
       "  <th>FBv</th>   <td>   -0.0117</td> <td>    0.000</td> <td>  -25.143</td> <td> 0.000</td> <td>   -0.013</td> <td>   -0.011</td>\n",
       "</tr>\n",
       "<tr>\n",
       "  <th>CBv</th>   <td>   -0.0008</td> <td>    0.000</td> <td>   -2.121</td> <td> 0.034</td> <td>   -0.001</td> <td>-5.69e-05</td>\n",
       "</tr>\n",
       "</table>\n",
       "<table class=\"simpletable\">\n",
       "<tr>\n",
       "  <th>Omnibus:</th>       <td>184.390</td> <th>  Durbin-Watson:     </th> <td>   1.962</td>\n",
       "</tr>\n",
       "<tr>\n",
       "  <th>Prob(Omnibus):</th> <td> 0.000</td>  <th>  Jarque-Bera (JB):  </th> <td> 229.804</td>\n",
       "</tr>\n",
       "<tr>\n",
       "  <th>Skew:</th>          <td>-0.530</td>  <th>  Prob(JB):          </th> <td>1.26e-50</td>\n",
       "</tr>\n",
       "<tr>\n",
       "  <th>Kurtosis:</th>      <td> 3.675</td>  <th>  Cond. No.          </th> <td>4.07e+03</td>\n",
       "</tr>\n",
       "</table><br/><br/>Notes:<br/>[1] Standard Errors assume that the covariance matrix of the errors is correctly specified.<br/>[2] The condition number is large, 4.07e+03. This might indicate that there are<br/>strong multicollinearity or other numerical problems."
      ],
      "text/plain": [
       "<class 'statsmodels.iolib.summary.Summary'>\n",
       "\"\"\"\n",
       "                            OLS Regression Results                            \n",
       "==============================================================================\n",
       "Dep. Variable:                      y   R-squared:                       0.267\n",
       "Model:                            OLS   Adj. R-squared:                  0.266\n",
       "Method:                 Least Squares   F-statistic:                     634.9\n",
       "Date:                Tue, 26 Jul 2022   Prob (F-statistic):          6.79e-236\n",
       "Time:                        21:43:38   Log-Likelihood:                 5141.5\n",
       "No. Observations:                3494   AIC:                        -1.028e+04\n",
       "Df Residuals:                    3491   BIC:                        -1.026e+04\n",
       "Df Model:                           2                                         \n",
       "Covariance Type:            nonrobust                                         \n",
       "==============================================================================\n",
       "                 coef    std err          t      P>|t|      [0.025      0.975]\n",
       "------------------------------------------------------------------------------\n",
       "const          1.8319      0.032     57.469      0.000       1.769       1.894\n",
       "FBv           -0.0117      0.000    -25.143      0.000      -0.013      -0.011\n",
       "CBv           -0.0008      0.000     -2.121      0.034      -0.001   -5.69e-05\n",
       "==============================================================================\n",
       "Omnibus:                      184.390   Durbin-Watson:                   1.962\n",
       "Prob(Omnibus):                  0.000   Jarque-Bera (JB):              229.804\n",
       "Skew:                          -0.530   Prob(JB):                     1.26e-50\n",
       "Kurtosis:                       3.675   Cond. No.                     4.07e+03\n",
       "==============================================================================\n",
       "\n",
       "Notes:\n",
       "[1] Standard Errors assume that the covariance matrix of the errors is correctly specified.\n",
       "[2] The condition number is large, 4.07e+03. This might indicate that there are\n",
       "strong multicollinearity or other numerical problems.\n",
       "\"\"\""
      ]
     },
     "execution_count": 23,
     "metadata": {},
     "output_type": "execute_result"
    }
   ],
   "source": [
    "model = sm.OLS(y, sm.add_constant(X))\n",
    "results = model.fit()\n",
    "results.summary()"
   ]
  },
  {
   "cell_type": "code",
   "execution_count": 24,
   "id": "ae1cf4a5",
   "metadata": {},
   "outputs": [
    {
     "data": {
      "text/plain": [
       "-0.011698402758336742"
      ]
     },
     "execution_count": 24,
     "metadata": {},
     "output_type": "execute_result"
    }
   ],
   "source": [
    "regr.coef_[0]"
   ]
  },
  {
   "cell_type": "code",
   "execution_count": 25,
   "id": "ee12f6dc",
   "metadata": {},
   "outputs": [
    {
     "data": {
      "text/plain": [
       "-0.0007507539717927438"
      ]
     },
     "execution_count": 25,
     "metadata": {},
     "output_type": "execute_result"
    }
   ],
   "source": [
    "regr.coef_[1]"
   ]
  },
  {
   "cell_type": "code",
   "execution_count": 26,
   "id": "aeee938e",
   "metadata": {},
   "outputs": [
    {
     "data": {
      "text/plain": [
       "1.8319160650312354"
      ]
     },
     "execution_count": 26,
     "metadata": {},
     "output_type": "execute_result"
    }
   ],
   "source": [
    "regr.intercept_"
   ]
  },
  {
   "cell_type": "markdown",
   "id": "7cf07b62",
   "metadata": {},
   "source": [
    "### Check for multicollinearity"
   ]
  },
  {
   "cell_type": "code",
   "execution_count": 27,
   "id": "08020eda",
   "metadata": {},
   "outputs": [
    {
     "data": {
      "text/html": [
       "<div>\n",
       "<style scoped>\n",
       "    .dataframe tbody tr th:only-of-type {\n",
       "        vertical-align: middle;\n",
       "    }\n",
       "\n",
       "    .dataframe tbody tr th {\n",
       "        vertical-align: top;\n",
       "    }\n",
       "\n",
       "    .dataframe thead th {\n",
       "        text-align: right;\n",
       "    }\n",
       "</style>\n",
       "<table border=\"1\" class=\"dataframe\">\n",
       "  <thead>\n",
       "    <tr style=\"text-align: right;\">\n",
       "      <th></th>\n",
       "      <th>VIF</th>\n",
       "      <th>variable</th>\n",
       "    </tr>\n",
       "  </thead>\n",
       "  <tbody>\n",
       "    <tr>\n",
       "      <th>0</th>\n",
       "      <td>1149.557431</td>\n",
       "      <td>Intercept</td>\n",
       "    </tr>\n",
       "    <tr>\n",
       "      <th>1</th>\n",
       "      <td>1.794396</td>\n",
       "      <td>FBv</td>\n",
       "    </tr>\n",
       "    <tr>\n",
       "      <th>2</th>\n",
       "      <td>1.794396</td>\n",
       "      <td>CBv</td>\n",
       "    </tr>\n",
       "  </tbody>\n",
       "</table>\n",
       "</div>"
      ],
      "text/plain": [
       "           VIF   variable\n",
       "0  1149.557431  Intercept\n",
       "1     1.794396        FBv\n",
       "2     1.794396        CBv"
      ]
     },
     "execution_count": 27,
     "metadata": {},
     "output_type": "execute_result"
    }
   ],
   "source": [
    "from patsy import dmatrices\n",
    "from statsmodels.stats.outliers_influence import variance_inflation_factor\n",
    "\n",
    "#find design matrix for linear regression model using 'rating' as response variable \n",
    "y_vif, X_vif = dmatrices('batBall/TBF ~ FBv+CBv', data=velo_df, return_type='dataframe')\n",
    "\n",
    "#calculate VIF for each explanatory variable\n",
    "vif = pd.DataFrame()\n",
    "vif['VIF'] = [variance_inflation_factor(X_vif.values, i) for i in range(X_vif.shape[1])]\n",
    "vif['variable'] = X_vif.columns\n",
    "\n",
    "#view VIF for each explanatory variable \n",
    "vif"
   ]
  },
  {
   "cell_type": "code",
   "execution_count": 28,
   "id": "municipal-respect",
   "metadata": {},
   "outputs": [
    {
     "name": "stdout",
     "output_type": "stream",
     "text": [
      "Coefficient of FBv is: -0.011698402758336742\n",
      "Coefficient of CBv is: -0.0007507539717927438\n",
      "Intercept is: 1.8319160650312354\n"
     ]
    }
   ],
   "source": [
    "print(f'Coefficient of FBv is: {regr.coef_[0]}')\n",
    "print(f'Coefficient of CBv is: {regr.coef_[1]}')\n",
    "print(f'Intercept is: {regr.intercept_}')"
   ]
  },
  {
   "cell_type": "code",
   "execution_count": 29,
   "id": "becoming-basis",
   "metadata": {},
   "outputs": [
    {
     "data": {
      "image/png": "[encoded data removed]",
      "text/plain": [
       "<Figure size 432x288 with 1 Axes>"
      ]
     },
     "metadata": {
      "needs_background": "light"
     },
     "output_type": "display_data"
    },
    {
     "data": {
      "text/plain": [
       "<Figure size 864x864 with 0 Axes>"
      ]
     },
     "metadata": {},
     "output_type": "display_data"
    }
   ],
   "source": [
    "fig, ax = plt.subplots(subplot_kw={'projection': '3d'})\n",
    "fig = plt.figure(figsize=(12,12))\n",
    "surf = ax.plot_surface(xx, yy, z, color='coral', shade=False, label='Regression Plane')\n",
    "surf._facecolors2d = surf._facecolor3d\n",
    "surf._edgecolors2d = surf._edgecolor3d\n",
    "ax.set_title('Batted Ball Percentage vs Fastball and Curveball Velocity', y=1.1)\n",
    "ax.set_xlabel('Average Fastball Velocity')\n",
    "ax.set_ylabel('')\n",
    "ax.set_yticks([])\n",
    "ax.set_zlabel('Batted Ball Percentage')\n",
    "ax.legend(loc='upper right')\n",
    "ax.view_init(elev=0, azim=90)\n",
    "plt.show()"
   ]
  },
  {
   "cell_type": "markdown",
   "id": "37bf1726",
   "metadata": {},
   "source": [
    "### Analyze how far to move mound back"
   ]
  },
  {
   "cell_type": "code",
   "execution_count": 30,
   "id": "35d1cf9f",
   "metadata": {},
   "outputs": [],
   "source": [
    "pitchfx_df = pd.read_csv('umpires2019.csv')"
   ]
  },
  {
   "cell_type": "code",
   "execution_count": 31,
   "id": "93270a58",
   "metadata": {},
   "outputs": [],
   "source": [
    "def reaction_time(pitch_df, distance, pitch_type):\n",
    "    pitch_df = pitch_df[pitch_df['pitch_type'] == pitch_type]\n",
    "    pitch_df = pitch_df.dropna(subset=['vy0','ay'])\n",
    "    pitch_df = pitch_df.reset_index(drop=True)\n",
    "    y0 = 50 + (distance - 60.5)\n",
    "    home_plate = 1.417\n",
    "    vy0 = pitch_df['vy0'].mean()\n",
    "    ay = pitch_df['ay'].mean()\n",
    "    vy = -np.sqrt((vy0**2) + 2*ay*(home_plate - y0))\n",
    "    total_time = (vy - vy0)/ay\n",
    "    return total_time\n",
    "\n",
    "def times_to_velo(pitch_df, times, pitch_type):\n",
    "    pitch_df = pitch_df[pitch_df['pitch_type'] == pitch_type]\n",
    "    pitch_df = pitch_df.dropna(subset=['vx0','vy0', 'vz0' ,'ay', 'ax', 'az', 'release_pos_x', 'release_pos_z'])\n",
    "    pitch_df = pitch_df.reset_index(drop=True)\n",
    "    mean_ax = pitch_df['ax'].mean()\n",
    "    mean_ay = pitch_df['ay'].mean()\n",
    "    mean_az = pitch_df['az'].mean()\n",
    "    z_break = pitch_df['pfx_z'].mean()\n",
    "    x_break = pitch_df['pfx_x'].mean()\n",
    "    \n",
    "    velos = []\n",
    "    for time in times:\n",
    "        d_x = x_break\n",
    "        d_y = 1.417 - 50\n",
    "        d_z = -z_break\n",
    "        vx0 = (d_x - (1/2)*((mean_ax)*time**2))/time\n",
    "        vy0 = (d_y - (1/2)*((mean_ay)*time**2))/time\n",
    "        vz0 = (d_z - (1/2)*((mean_az)*time**2))/time\n",
    "        velo = np.sqrt((vx0**2) + (vy0**2) + (vz0**2))\n",
    "        velos.append(velo / 5280 * 3600)\n",
    "    \n",
    "    return velos\n",
    "\n",
    "def at_plate_velo(pitch_df, distance):\n",
    "    y0 = 50 + (distance - 60.5)\n",
    "    home_plate = 1.417\n",
    "    vy0 = pitch_df['vy0']\n",
    "    ay = pitch_df['ay']\n",
    "    z0 = pitch_df['release_pos_z']\n",
    "    vz0 = pitch_df['vz0']\n",
    "    az = pitch_df['az']\n",
    "    x0 = pitch_df['release_pos_x']\n",
    "    vx0 = pitch_df['vx0']\n",
    "    ax = pitch_df['ax']\n",
    "    \n",
    "    vy = -np.sqrt((vy0**2) + 2*ay*(home_plate - y0))\n",
    "    total_time = (vy - vy0)/ay\n",
    "    vx = vx0 + ax*total_time\n",
    "    vz = vz0 + az*total_time\n",
    "    return vx, vy, vz"
   ]
  },
  {
   "cell_type": "code",
   "execution_count": 32,
   "id": "coated-harris",
   "metadata": {},
   "outputs": [
    {
     "data": {
      "text/plain": [
       "[0.3602862080447132,\n",
       " 0.36426922941613077,\n",
       " 0.3682558285757045,\n",
       " 0.37224601518214046,\n",
       " 0.3762397989376817,\n",
       " 0.380237189588383,\n",
       " 0.38423819692438815,\n",
       " 0.3882428307802104,\n",
       " 0.3922511010350134,\n",
       " 0.3962630176128978,\n",
       " 0.4002785904831844,\n",
       " 0.40429782966070577,\n",
       " 0.4083207452060977]"
      ]
     },
     "execution_count": 32,
     "metadata": {},
     "output_type": "execute_result"
    }
   ],
   "source": [
    "# fastball analysis\n",
    "distance_grid = [59, 59.5, 60, 60.5, 61, 61.5, 62, 62.5, 63, 63.5, 64, 64.5, 65]\n",
    "react_times = []\n",
    "for distance in distance_grid:\n",
    "    react_times.append(reaction_time(pitchfx_df, distance, 'FF'))\n",
    "react_times"
   ]
  },
  {
   "cell_type": "code",
   "execution_count": 33,
   "id": "voluntary-privilege",
   "metadata": {},
   "outputs": [
    {
     "data": {
      "text/plain": [
       "[95.41460985662926,\n",
       " 94.4474263635252,\n",
       " 93.50117275132098,\n",
       " 92.57520449130041,\n",
       " 91.66890332751842,\n",
       " 90.7816759521061,\n",
       " 89.91295275992441,\n",
       " 89.06218667707766,\n",
       " 88.22885205822539,\n",
       " 87.41244364802417,\n",
       " 86.61247560239124,\n",
       " 85.82848056560645,\n",
       " 85.06000879957162]"
      ]
     },
     "execution_count": 33,
     "metadata": {},
     "output_type": "execute_result"
    }
   ],
   "source": [
    "# get equivalent speed at 60.5 mound\n",
    "adjusted_velos = times_to_velo(pitchfx_df, react_times, 'FF')\n",
    "adjusted_velos"
   ]
  },
  {
   "cell_type": "code",
   "execution_count": 34,
   "id": "pleased-hammer",
   "metadata": {},
   "outputs": [
    {
     "data": {
      "text/plain": [
       "[80.42232859115596,\n",
       " 79.61967180327291,\n",
       " 78.83472126316592,\n",
       " 78.06693703608406,\n",
       " 77.31580124317092,\n",
       " 76.58081694892635,\n",
       " 75.86150711529899,\n",
       " 75.15741361780013,\n",
       " 74.4680963193883,\n",
       " 73.79313219820592,\n",
       " 73.13211452554832,\n",
       " 72.48465209072265,\n",
       " 71.85036846970341]"
      ]
     },
     "execution_count": 34,
     "metadata": {},
     "output_type": "execute_result"
    }
   ],
   "source": [
    "# repeat process for curveballs\n",
    "react_times_cb = []\n",
    "for distance in distance_grid:\n",
    "    react_times_cb.append(reaction_time(pitchfx_df, distance, 'CU'))\n",
    "adjusted_velos_cb = times_to_velo(pitchfx_df, react_times_cb, 'CU')\n",
    "adjusted_velos_cb"
   ]
  },
  {
   "cell_type": "code",
   "execution_count": 35,
   "id": "other-machine",
   "metadata": {},
   "outputs": [],
   "source": [
    "q1 = np.array([-0.011968 * fb for fb in adjusted_velos])\n",
    "q2 = np.array([-0.00075 * cb for cb in adjusted_velos_cb])\n",
    "pred_batted_balls = q1 + q2 + 1.83"
   ]
  },
  {
   "cell_type": "code",
   "execution_count": 36,
   "id": "wired-savannah",
   "metadata": {},
   "outputs": [
    {
     "data": {
      "text/plain": [
       "[48.20425535662728,\n",
       " 49.139316343800594,\n",
       " 50.05412318960018,\n",
       " 50.94929930699849,\n",
       " 51.82544269424563,\n",
       " 52.68312721632732,\n",
       " 53.522903809664676,\n",
       " 54.34530161536559,\n",
       " 55.15082904592352,\n",
       " 55.93997478988017,\n",
       " 56.71320875861921,\n",
       " 57.47098297914465,\n",
       " 58.21373243640449]"
      ]
     },
     "execution_count": 36,
     "metadata": {},
     "output_type": "execute_result"
    }
   ],
   "source": [
    "adjusted_action_indices = []\n",
    "for pred in pred_batted_balls:\n",
    "    adjusted_action_indices.append((action_df['PlateAppearances'].iloc[len(action_df)-3] * pred) / action_df['Games'].iloc[len(action_df)-3])\n",
    "adjusted_action_indices"
   ]
  },
  {
   "cell_type": "markdown",
   "id": "f08f32ff",
   "metadata": {},
   "source": [
    "### Analyze mound at 62.5 feet"
   ]
  },
  {
   "cell_type": "code",
   "execution_count": 37,
   "id": "765332f2",
   "metadata": {},
   "outputs": [
    {
     "data": {
      "text/plain": [
       "54.34530161536559"
      ]
     },
     "execution_count": 37,
     "metadata": {},
     "output_type": "execute_result"
    }
   ],
   "source": [
    "adjusted_action_indices[7]"
   ]
  },
  {
   "cell_type": "code",
   "execution_count": 38,
   "id": "0c5fe111",
   "metadata": {},
   "outputs": [
    {
     "data": {
      "image/png": "[encoded data removed]",
      "text/plain": [
       "<Figure size 432x288 with 1 Axes>"
      ]
     },
     "metadata": {
      "needs_background": "light"
     },
     "output_type": "display_data"
    }
   ],
   "source": [
    "x_points = [60.5, 62.5]\n",
    "y_points = [50.95, 54.345]\n",
    "txts = ['(60.5, 50.95)', '(62.5, 54.35)']\n",
    "plt.plot(distance_grid, adjusted_action_indices)\n",
    "plt.scatter(x_points, y_points, c='g')\n",
    "plt.ylabel('Predicted Action Index')\n",
    "plt.xlabel('Mound Distance')\n",
    "plt.title('Predicted Action Indices at Different Mound Distances for 2019 MLB Season')\n",
    "for i, txt in enumerate(txts):\n",
    "    plt.annotate(txt, (x_points[i] + 0.15, y_points[i] - 0.15))\n",
    "plt.show()"
   ]
  },
  {
   "cell_type": "markdown",
   "id": "verified-explosion",
   "metadata": {},
   "source": [
    "### Compute new vertical position of fastball"
   ]
  },
  {
   "cell_type": "code",
   "execution_count": 39,
   "id": "modern-polyester",
   "metadata": {},
   "outputs": [],
   "source": [
    "def new_vertical_pos(pitch_df, distance):\n",
    "    y0 = 50 + (distance - 60.5)\n",
    "    home_plate = 1.417\n",
    "    vy0 = pitch_df['vy0']\n",
    "    ay = pitch_df['ay']\n",
    "    z0 = pitch_df['release_pos_z']\n",
    "    vz0 = pitch_df['vz0']\n",
    "    az = pitch_df['az']\n",
    "    z_break = pitch_df['pfx_z']\n",
    "    \n",
    "    vy = -np.sqrt((vy0**2) + 2*ay*(home_plate - y0))\n",
    "    total_time = (vy - vy0)/ay\n",
    "    t_perceived = (-vy0 - np.sqrt((vy0**2) - (2 * ay * 10))) / ay\n",
    "    z_perceived = z0 + (vz0 * t_perceived) + (1/2)*(az)*(t_perceived**2)\n",
    "    vz_perceived = vz0 + (az*t_perceived)\n",
    "    t_home = total_time - t_perceived\n",
    "    z_no_air = z_perceived + (vz_perceived*t_home) + (1/2)*(az * t_home**2)\n",
    "    return (-z_break/12) + z_no_air"
   ]
  },
  {
   "cell_type": "code",
   "execution_count": 40,
   "id": "8d7f6a25",
   "metadata": {},
   "outputs": [],
   "source": [
    "fastball_pitch_df = pitchfx_df[pitchfx_df['pitch_type'] == 'FF']\n",
    "fastball_pitch_df = fastball_pitch_df.reset_index(drop=True)"
   ]
  },
  {
   "cell_type": "code",
   "execution_count": 41,
   "id": "7dccc265",
   "metadata": {},
   "outputs": [],
   "source": [
    "mound_adjusted_pos = []\n",
    "for i in range(len(fastball_pitch_df)):\n",
    "    estimated_pos = new_vertical_pos(fastball_pitch_df.iloc[i], 62.5)\n",
    "    mound_adjusted_pos.append(estimated_pos)"
   ]
  },
  {
   "cell_type": "code",
   "execution_count": 42,
   "id": "a5ce95fb",
   "metadata": {},
   "outputs": [
    {
     "name": "stdout",
     "output_type": "stream",
     "text": [
      "New mean fastball height at mound distance of 62.5 is 2.5801 feet\n"
     ]
    }
   ],
   "source": [
    "print(f'New mean fastball height at mound distance of 62.5 is {round(sum(mound_adjusted_pos)/len(mound_adjusted_pos), 4)} feet')"
   ]
  },
  {
   "cell_type": "code",
   "execution_count": 43,
   "id": "3748f151",
   "metadata": {},
   "outputs": [
    {
     "name": "stdout",
     "output_type": "stream",
     "text": [
      "Height difference of 1.484 inches for increase of mound by 2 feet\n"
     ]
    }
   ],
   "source": [
    "print(f'Height difference of {round((2.7038 - 2.5801) * 12, 3)} inches for increase of mound by 2 feet')"
   ]
  },
  {
   "cell_type": "code",
   "execution_count": null,
   "id": "934f31b4",
   "metadata": {},
   "outputs": [],
   "source": []
  }
 ],
 "metadata": {
  "kernelspec": {
   "display_name": "Python 3 (ipykernel)",
   "language": "python",
   "name": "python3"
  },
  "language_info": {
   "codemirror_mode": {
    "name": "ipython",
    "version": 3
   },
   "file_extension": ".py",
   "mimetype": "text/x-python",
   "name": "python",
   "nbconvert_exporter": "python",
   "pygments_lexer": "ipython3",
   "version": "3.8.5"
  }
 },
 "nbformat": 4,
 "nbformat_minor": 5
}
